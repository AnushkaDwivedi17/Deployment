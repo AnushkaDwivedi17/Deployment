{
 "cells": [
  {
   "cell_type": "code",
   "execution_count": 3,
   "metadata": {},
   "outputs": [],
   "source": [
    "import numpy as np\n",
    "from flask import Flask, request, make_response\n",
    "import json\n",
    "import pickle\n",
    "from flask_cors import cross_origin"
   ]
  },
  {
   "cell_type": "code",
   "execution_count": 4,
   "metadata": {},
   "outputs": [],
   "source": [
    "app = Flask(__name__)"
   ]
  },
  {
   "cell_type": "code",
   "execution_count": 5,
   "metadata": {},
   "outputs": [],
   "source": [
    "model = pickle.load(open('mnbmodel.pkl', 'rb'))"
   ]
  },
  {
   "cell_type": "code",
   "execution_count": 8,
   "metadata": {},
   "outputs": [],
   "source": [
    "@app.route('/webhook', methods=['POST'])\n",
    "@cross_origin()\n",
    "\n",
    "def webhook(): \n",
    "    req = request.get_json(silent=True, force=True)\n",
    "    res = processRequest(req)\n",
    "    res = json.dumps(res, indent=4)\n",
    "    r = make_response(res)\n",
    "    r.headers['Content-Type'] = 'application/json'\n",
    "    return r"
   ]
  },
  {
   "cell_type": "code",
   "execution_count": 9,
   "metadata": {},
   "outputs": [],
   "source": [
    "def processRequest(req):\n",
    "    user_symptoms = Symptom(req)\n",
    "    Top3diseasepred = predictDisease(user_symptoms)\n",
    "    res = makeWebhookResult(Top3diseasepred)\n",
    "    return res"
   ]
  },
  {
   "cell_type": "code",
   "execution_count": 10,
   "metadata": {},
   "outputs": [],
   "source": [
    "def Symptom(req):\n",
    "    user_symptoms=req.get(\"result\").get(\"symptoms\")\n",
    "    user_symptoms=list(user_symptoms)\n",
    "    return user_symptoms"
   ]
  },
  {
   "cell_type": "code",
   "execution_count": 11,
   "metadata": {},
   "outputs": [],
   "source": [
    "def predictDisease(user_symptoms):\n",
    "    symptom=np.zeros([526],dtype=float)\n",
    "    Alldiseases=model.classes_.tolist()\n",
    "    \n",
    "    indexes=[]\n",
    "    for i in range(len(model_symptoms)):\n",
    "        if model_symptoms[i] in user_symptoms:\n",
    "            indexes.append(i)\n",
    "    for i in indexes:\n",
    "        symptom[i]=1\n",
    "    top3=[]\n",
    "    probab=model.predict_proba([symptom]).tolist()  \n",
    "    for j in range(3):\n",
    "        max=-10000000000\n",
    "        h=0\n",
    "        for i in range(len(probab[0])):\n",
    "            if probab[0][i]>max:\n",
    "                max=probab[0][i]\n",
    "                h=i \n",
    "    k=[]\n",
    "    k.append(l[h])\n",
    "    k.append(probab[0][h])\n",
    "    top3.append(k)\n",
    "    probab[0][h]=-1 \n",
    "    return top3\n"
   ]
  },
  {
   "cell_type": "code",
   "execution_count": 12,
   "metadata": {},
   "outputs": [],
   "source": [
    "def makeWebhookResult(Top3diseasepred):\n",
    "    result=\"\"\n",
    "    for i in Top3diseasepred:\n",
    "        result+=\"Probability of \"+str(i[0])+\"is \"+\"{:2.3f}\".format((i[1]*100))+'%'+'\\n'\n",
    "    return result"
   ]
  },
  {
   "cell_type": "code",
   "execution_count": null,
   "metadata": {},
   "outputs": [
    {
     "name": "stdout",
     "output_type": "stream",
     "text": [
      " * Serving Flask app \"__main__\" (lazy loading)\n",
      " * Environment: production\n",
      "   WARNING: This is a development server. Do not use it in a production deployment.\n",
      "   Use a production WSGI server instead.\n",
      " * Debug mode: off\n"
     ]
    },
    {
     "name": "stderr",
     "output_type": "stream",
     "text": [
      " * Running on http://127.0.0.1:5000/ (Press CTRL+C to quit)\n",
      "127.0.0.1 - - [21/Jul/2020 18:15:55] \"GET / HTTP/1.1\" 404 -\n",
      "127.0.0.1 - - [21/Jul/2020 18:15:57] \"GET /favicon.ico HTTP/1.1\" 404 -\n"
     ]
    }
   ],
   "source": [
    "if __name__ == '__main__':\n",
    "    app.run(debug=False)"
   ]
  },
  {
   "cell_type": "code",
   "execution_count": null,
   "metadata": {},
   "outputs": [],
   "source": []
  }
 ],
 "metadata": {
  "kernelspec": {
   "display_name": "Python 3",
   "language": "python",
   "name": "python3"
  },
  "language_info": {
   "codemirror_mode": {
    "name": "ipython",
    "version": 3
   },
   "file_extension": ".py",
   "mimetype": "text/x-python",
   "name": "python",
   "nbconvert_exporter": "python",
   "pygments_lexer": "ipython3",
   "version": "3.7.4"
  }
 },
 "nbformat": 4,
 "nbformat_minor": 2
}
